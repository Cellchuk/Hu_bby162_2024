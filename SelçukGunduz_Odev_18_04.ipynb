{
  "nbformat": 4,
  "nbformat_minor": 0,
  "metadata": {
    "colab": {
      "provenance": [],
      "authorship_tag": "ABX9TyMyy7LqhwOjxBv0jGSuJZYc",
      "include_colab_link": true
    },
    "kernelspec": {
      "name": "python3",
      "display_name": "Python 3"
    },
    "language_info": {
      "name": "python"
    }
  },
  "cells": [
    {
      "cell_type": "markdown",
      "metadata": {
        "id": "view-in-github",
        "colab_type": "text"
      },
      "source": [
        "<a href=\"https://colab.research.google.com/github/Cellchuk/Hu_bby162_2024/blob/main/Sel%C3%A7ukGunduz_Odev_18_04.ipynb\" target=\"_parent\"><img src=\"https://colab.research.google.com/assets/colab-badge.svg\" alt=\"Open In Colab\"/></a>"
      ]
    },
    {
      "cell_type": "code",
      "execution_count": null,
      "metadata": {
        "id": "UXXU8C3jpZaT"
      },
      "outputs": [],
      "source": [
        "memleketler= {\"Erzincan\": \"Selçuk\", \"Manavgat\": \"Atlas\", \"Antalya\": \"Maya\", \"Rize\": \"Deniz\", \"Ankara\": \"İrem\"}\n",
        "print (memleketler)\n",
        "\n",
        "iller = input (\"ili giriniz: \" )\n",
        "kişiler= input (\"İsmi giriniz: \" )\n",
        "memleketler [iller]= kişiler\n",
        "print (memleketler)\n",
        "\n",
        "\n",
        "{'Erzincan': 'Selçuk', 'Manavgat': 'Atlas', 'Antalya': 'Maya', 'Rize': 'Deniz', 'Ankara': 'İrem'}\n",
        "ili giriniz: Trabzon\n",
        "İsmi giriniz: Gülay\n",
        "{'Erzincan': 'Selçuk', 'Manavgat': 'Atlas', 'Antalya': 'Maya', 'Rize': 'Deniz', 'Ankara': 'İrem', 'Trabzon': 'Gülay'}"
      ]
    },
    {
      "cell_type": "code",
      "source": [
        "memleketler= {\"Erzincan\": \"Selçuk\", \"Manavgat\": \"Atlas\", \"Antalya\": \"Maya\", \"Rize\": \"Deniz\", \"Ankara\": \"İrem\"}\n",
        "\n",
        "silinecek = input (\"silmek istediğiniz ili giriniz: \")\n",
        "print(\"Silinecek kişi: \" + memleketler[silinecek])\n",
        "del memleketler[silinecek]\n",
        "print (memleketler)\n",
        "\n",
        "silmek istediğiniz ili giriniz: Ankara\n",
        "Silinecek kişi: İrem\n",
        "{'Erzincan': 'Selçuk', 'Manavgat': 'Atlas', 'Antalya': 'Maya', 'Rize': 'Deniz'}"
      ],
      "metadata": {
        "id": "2_VC8YgMphl9"
      },
      "execution_count": null,
      "outputs": []
    },
    {
      "cell_type": "code",
      "source": [
        "memleketler= {\"Erzincan\": \"Selçuk\", \"Manavgat\": \"Atlas\", \"Antalya\": \"Maya\", \"Rize\": \"Deniz\", \"Ankara\": \"İrem\"}\n",
        "iller=input( \"yeni il ekleyin\")\n",
        "kişiler=input( \"yeni kişi ekleyin\")\n",
        "memleketler[iller]=kişiler\n",
        "print (memleketler)\n",
        "\n",
        "yeni il ekleyinGümüşhane\n",
        "yeni kişi ekleyinYağmur\n",
        "{'Erzincan': 'Selçuk', 'Manavgat': 'Atlas', 'Antalya': 'Maya', 'Rize': 'Deniz', 'Ankara': 'İrem', 'Gümüşhane': 'Yağmur'}"
      ],
      "metadata": {
        "id": "hNOI2cBApisM"
      },
      "execution_count": null,
      "outputs": []
    },
    {
      "cell_type": "code",
      "source": [
        "memleketler= {\"Erzincan\": \"Selçuk\", \"Manavgat\": \"Atlas\", \"Antalya\": \"Maya\", \"Rize\": \"Deniz\", \"Ankara\": \"İrem\"}\n",
        "yeniIl=input( \"Güncellenecek yeni ili giriniz: \")\n",
        "yeniKişi=input( \"kişiyi değiştirin: \" )\n",
        "\n",
        "memleketler [yeniIl]=yeniKişi\n",
        "print (memleketler)\n",
        "\n",
        "Güncellenecek yeni ili giriniz: Ankara\n",
        "kişiyi değiştirin: Başak\n",
        "{'Erzincan': 'Selçuk', 'Manavgat': 'Atlas', 'Antalya': 'Maya', 'Rize': 'Deniz', 'Ankara': 'Başak'}"
      ],
      "metadata": {
        "id": "cRQyAJEspmDX"
      },
      "execution_count": null,
      "outputs": []
    }
  ]
}