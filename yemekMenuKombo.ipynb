{
  "nbformat": 4,
  "nbformat_minor": 0,
  "metadata": {
    "colab": {
      "provenance": [],
      "authorship_tag": "ABX9TyMMJivQpPv4bhe4Yu61i+b8",
      "include_colab_link": true
    },
    "kernelspec": {
      "name": "python3",
      "display_name": "Python 3"
    },
    "language_info": {
      "name": "python"
    }
  },
  "cells": [
    {
      "cell_type": "markdown",
      "metadata": {
        "id": "view-in-github",
        "colab_type": "text"
      },
      "source": [
        "<a href=\"https://colab.research.google.com/github/Cellchuk/Hu_bby162_2024/blob/main/yemekMenuKombo.ipynb\" target=\"_parent\"><img src=\"https://colab.research.google.com/assets/colab-badge.svg\" alt=\"Open In Colab\"/></a>"
      ]
    },
    {
      "cell_type": "code",
      "execution_count": 39,
      "metadata": {
        "colab": {
          "base_uri": "https://localhost:8080/"
        },
        "id": "b04JBdOnrPzL",
        "outputId": "da8d1ef6-6986-4783-8555-c0d789c77308"
      },
      "outputs": [
        {
          "output_type": "stream",
          "name": "stdout",
          "text": [
            "['meze', 'mercimek', 'biftek', 'telkadayıf']\n"
          ]
        }
      ],
      "source": [
        "import random\n",
        "baslangic=[\"paçanga\", \"brucehtta\", \"meze\"]\n",
        "corba=[\"mercimek\", \"erzincan_corba\", \"borani\"]\n",
        "anayemek=[\"tavuksis\",\"biftek\",\"somon\"]\n",
        "tatli=[\"kemalpaşa\",\"baklava\",\"ekmekkadayıf\",\"telkadayıf\"]\n",
        "\n",
        "\n",
        "menu=[baslangic,corba,anayemek,tatli]\n",
        "gununMenusu=[]\n",
        "\n",
        "for course in menu:\n",
        "  gununMenusu.append(random.choice(course))\n",
        "print(gununMenusu)\n",
        "\n",
        "\n",
        "\n",
        "\n",
        "\n",
        "\n",
        "\n",
        "\n",
        "\n"
      ]
    }
  ]
}