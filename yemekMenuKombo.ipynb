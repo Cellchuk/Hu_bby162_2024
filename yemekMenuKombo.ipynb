{
  "nbformat": 4,
  "nbformat_minor": 0,
  "metadata": {
    "colab": {
      "provenance": [],
      "mount_file_id": "1ChuFt4x2l5tB3UPhzQ8tB0ymmeAOr1de",
      "authorship_tag": "ABX9TyMsLXZKoBdsWpSAf5Oqe13E",
      "include_colab_link": true
    },
    "kernelspec": {
      "name": "python3",
      "display_name": "Python 3"
    },
    "language_info": {
      "name": "python"
    }
  },
  "cells": [
    {
      "cell_type": "markdown",
      "metadata": {
        "id": "view-in-github",
        "colab_type": "text"
      },
      "source": [
        "<a href=\"https://colab.research.google.com/github/Cellchuk/Hu_bby162_2024/blob/main/yemekMenuKombo.ipynb\" target=\"_parent\"><img src=\"https://colab.research.google.com/assets/colab-badge.svg\" alt=\"Open In Colab\"/></a>"
      ]
    },
    {
      "cell_type": "code",
      "execution_count": null,
      "metadata": {
        "colab": {
          "base_uri": "https://localhost:8080/"
        },
        "outputId": "1f35595a-7c57-466c-eee2-47b66af0e1db",
        "id": "egO0AwV2Zcsr"
      },
      "outputs": [
        {
          "output_type": "stream",
          "name": "stdout",
          "text": [
            "cuma: ['brucehtta', 'borani', 'tavuksis', 'telkadayıf']\n",
            "cumartesi: ['meze', 'mercimek', 'somon', 'ekmekkadayıf']\n",
            "pazar: ['meze', 'erzincan_corba', 'tavuksis', 'baklava']\n"
          ]
        }
      ],
      "source": [
        "import random\n",
        "baslangic=[\"paçanga\", \"brucehtta\", \"meze\"]\n",
        "corba=[\"mercimek\", \"erzincan_corba\", \"borani\"]\n",
        "anayemek=[\"tavuksis\",\"biftek\",\"somon\"]\n",
        "tatli=[\"kemalpaşa\",\"baklava\",\"ekmekkadayıf\",\"telkadayıf\"]\n",
        "\n",
        "gunler=[\"cuma\",\"cumartesi\",\"pazar\"]\n",
        "\n",
        "def tekrarla():\n",
        "  for gün in gunler:\n",
        "    menu=[baslangic,corba,anayemek,tatli]\n",
        "    gununMenusu=[]\n",
        "    for course in menu:\n",
        "      gununMenusu.append(random.choice(course))\n",
        "\n",
        "    print(f\"{gün}: {gununMenusu}\")\n",
        "\n",
        "tekrarla()\n",
        "\n",
        "\n",
        "\n",
        "\n"
      ]
    },
    {
      "cell_type": "code",
      "source": [
        "dosya_yolu = \"/content/drive/MyDrive/Python101/Tercan.txt\"\n",
        "f = open(dosya_yolu, \"a\")\n",
        "for i in range(10):\n",
        "  f.write(str(i)+\"Erzurum\\n\")\n",
        "f.close()"
      ],
      "metadata": {
        "id": "6gRk3DJnOYpt"
      },
      "execution_count": null,
      "outputs": []
    },
    {
      "cell_type": "code",
      "source": [
        "f = open(dosya_yolu, \"r\")\n",
        "for i in range(10):\n",
        "  text = f.readline()\n",
        "  text = text.lower()\n",
        "  text = text.upper()\n",
        "  print(text)\n",
        "f.close()"
      ],
      "metadata": {
        "colab": {
          "base_uri": "https://localhost:8080/"
        },
        "id": "EyOYeog0SL00",
        "outputId": "73cd7a44-873e-4a12-b594-5efc8c098aa3"
      },
      "execution_count": null,
      "outputs": [
        {
          "output_type": "stream",
          "name": "stdout",
          "text": [
            "0ERZURUM\n",
            "\n",
            "1ERZURUM\n",
            "\n",
            "2ERZURUM\n",
            "\n",
            "3ERZURUM\n",
            "\n",
            "4ERZURUM\n",
            "\n",
            "5ERZURUM\n",
            "\n",
            "6ERZURUM\n",
            "\n",
            "7ERZURUM\n",
            "\n",
            "8ERZURUM\n",
            "\n",
            "9ERZURUM\n",
            "\n"
          ]
        }
      ]
    },
    {
      "cell_type": "code",
      "source": [
        "text_list = list()"
      ],
      "metadata": {
        "id": "nG7qLfkwWLOb"
      },
      "execution_count": null,
      "outputs": []
    },
    {
      "cell_type": "code",
      "source": [
        "text_list"
      ],
      "metadata": {
        "colab": {
          "base_uri": "https://localhost:8080/"
        },
        "id": "DDa__uR1WRHD",
        "outputId": "a78c9cda-9f57-4b4d-fb0e-479d792903dd"
      },
      "execution_count": null,
      "outputs": [
        {
          "output_type": "execute_result",
          "data": {
            "text/plain": [
              "[]"
            ]
          },
          "metadata": {},
          "execution_count": 47
        }
      ]
    },
    {
      "cell_type": "code",
      "source": [
        "text_list.append(\"Erzincan\")"
      ],
      "metadata": {
        "id": "Vpq1l6T_WZDQ"
      },
      "execution_count": null,
      "outputs": []
    },
    {
      "cell_type": "code",
      "source": [
        "text_list"
      ],
      "metadata": {
        "colab": {
          "base_uri": "https://localhost:8080/"
        },
        "id": "-sLi5E87WZGY",
        "outputId": "7ea37a8d-7e49-431b-dffc-46eb83a1b6fa"
      },
      "execution_count": null,
      "outputs": [
        {
          "output_type": "execute_result",
          "data": {
            "text/plain": [
              "['Erzurum', 'Erzincan']"
            ]
          },
          "metadata": {},
          "execution_count": 51
        }
      ]
    },
    {
      "cell_type": "code",
      "source": [
        "f = open(dosya_yolu, \"r\")\n",
        "text_list = f.readlines()\n",
        "text_list"
      ],
      "metadata": {
        "colab": {
          "base_uri": "https://localhost:8080/"
        },
        "id": "iEBFCv25SYOK",
        "outputId": "e06ee4d9-ebe5-4995-e725-8abe7161d7a1"
      },
      "execution_count": null,
      "outputs": [
        {
          "output_type": "execute_result",
          "data": {
            "text/plain": [
              "['0Erzurum\\n',\n",
              " '1Erzurum\\n',\n",
              " '2Erzurum\\n',\n",
              " '3Erzurum\\n',\n",
              " '4Erzurum\\n',\n",
              " '5Erzurum\\n',\n",
              " '6Erzurum\\n',\n",
              " '7Erzurum\\n',\n",
              " '8Erzurum\\n',\n",
              " '9Erzurum\\n']"
            ]
          },
          "metadata": {},
          "execution_count": 43
        }
      ]
    },
    {
      "cell_type": "code",
      "source": [
        "text_list[5]"
      ],
      "metadata": {
        "id": "VopeyxWs6s9Y",
        "colab": {
          "base_uri": "https://localhost:8080/",
          "height": 36
        },
        "outputId": "29f13a40-5b86-403a-a3ee-617aa68701c8"
      },
      "execution_count": null,
      "outputs": [
        {
          "output_type": "execute_result",
          "data": {
            "text/plain": [
              "'5Erzurum\\n'"
            ],
            "application/vnd.google.colaboratory.intrinsic+json": {
              "type": "string"
            }
          },
          "metadata": {},
          "execution_count": 39
        }
      ]
    },
    {
      "cell_type": "code",
      "source": [],
      "metadata": {
        "id": "URTFCor-PDcD"
      },
      "execution_count": null,
      "outputs": []
    },
    {
      "cell_type": "code",
      "source": [],
      "metadata": {
        "id": "RP8e_eBxPDeZ"
      },
      "execution_count": null,
      "outputs": []
    },
    {
      "cell_type": "code",
      "source": [],
      "metadata": {
        "id": "yylN-AoJPDh9"
      },
      "execution_count": null,
      "outputs": []
    },
    {
      "cell_type": "code",
      "execution_count": null,
      "metadata": {
        "colab": {
          "base_uri": "https://localhost:8080/"
        },
        "outputId": "7b13f284-cd15-4035-c30a-ceda2f8c9148",
        "id": "y-qsfOo9ZePK"
      },
      "outputs": [
        {
          "output_type": "stream",
          "name": "stdout",
          "text": [
            "Menu for cuma: ['brucehtta', 'erzincan_corba', 'somon', 'kemalpaşa']\n",
            "Menu for cumartesi: ['meze', 'erzincan_corba', 'somon', 'ekmekkadayıf']\n",
            "Menu for pazar: ['brucehtta', 'erzincan_corba', 'tavuksis', 'baklava']\n"
          ]
        }
      ],
      "source": [
        "import random\n",
        "baslangic=[\"paçanga\", \"brucehtta\", \"meze\"]\n",
        "corba=[\"mercimek\", \"erzincan_corba\", \"borani\"]\n",
        "anayemek=[\"tavuksis\",\"biftek\",\"somon\"]\n",
        "tatli=[\"kemalpaşa\",\"baklava\",\"ekmekkadayıf\",\"telkadayıf\"]\n",
        "\n",
        "gunler=[\"cuma\",\"cumartesi\",\"pazar\"]\n",
        "\n",
        "def tekrarla_menu ():\n",
        "  for gun in gunler:\n",
        "    menu=[baslangic,corba,anayemek,tatli]\n",
        "    gununMenusu=[]\n",
        "\n",
        "    for course in menu:\n",
        "      gununMenusu.append(random.choice(course))\n",
        "\n",
        "    print(f\"Menu for {gun}: {gununMenusu}\")\n",
        "\n",
        "\n",
        "tekrarla_menu()\n",
        "\n",
        "\n",
        "\n",
        "\n",
        "\n",
        "\n",
        "\n",
        "\n",
        "\n"
      ]
    },
    {
      "cell_type": "code",
      "execution_count": null,
      "metadata": {
        "colab": {
          "base_uri": "https://localhost:8080/",
          "height": 106
        },
        "id": "b04JBdOnrPzL",
        "outputId": "0fdd9253-135d-46bb-d4fd-ab39363d0559"
      },
      "outputs": [
        {
          "output_type": "error",
          "ename": "SyntaxError",
          "evalue": "invalid syntax (<ipython-input-41-235ea3d03add>, line 9)",
          "traceback": [
            "\u001b[0;36m  File \u001b[0;32m\"<ipython-input-41-235ea3d03add>\"\u001b[0;36m, line \u001b[0;32m9\u001b[0m\n\u001b[0;31m    def (tekrarla):\u001b[0m\n\u001b[0m        ^\u001b[0m\n\u001b[0;31mSyntaxError\u001b[0m\u001b[0;31m:\u001b[0m invalid syntax\n"
          ]
        }
      ],
      "source": [
        "import random\n",
        "baslangic=[\"paçanga\", \"brucehtta\", \"meze\"]\n",
        "corba=[\"mercimek\", \"erzincan_corba\", \"borani\"]\n",
        "anayemek=[\"tavuksis\",\"biftek\",\"somon\"]\n",
        "tatli=[\"kemalpaşa\",\"baklava\",\"ekmekkadayıf\",\"telkadayıf\"]\n",
        "\n",
        "gunler=[\"cuma\",\"cumartesi\",\"pazar\"]\n",
        "\n",
        "def (tekrarla):\n",
        "  for i in gunler:\n",
        "\n",
        "  menu=[baslangic,corba,anayemek,tatli]\n",
        "  gununMenusu=[]\n",
        "\n",
        "for course in menu:\n",
        "  gununMenusu.append(random.choice(course))\n",
        "print(gununMenusu)\n",
        "\n",
        "print(tekrarla)\n",
        "\n",
        "\n",
        "\n",
        "\n",
        "\n",
        "\n",
        "\n",
        "\n",
        "\n"
      ]
    }
  ]
}