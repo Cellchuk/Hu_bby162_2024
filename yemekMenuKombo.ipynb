{
  "nbformat": 4,
  "nbformat_minor": 0,
  "metadata": {
    "colab": {
      "provenance": [],
      "authorship_tag": "ABX9TyP0AFUBHp4rf43YkJ07VhhM",
      "include_colab_link": true
    },
    "kernelspec": {
      "name": "python3",
      "display_name": "Python 3"
    },
    "language_info": {
      "name": "python"
    }
  },
  "cells": [
    {
      "cell_type": "markdown",
      "metadata": {
        "id": "view-in-github",
        "colab_type": "text"
      },
      "source": [
        "<a href=\"https://colab.research.google.com/github/Cellchuk/Hu_bby162_2024/blob/main/yemekMenuKombo.ipynb\" target=\"_parent\"><img src=\"https://colab.research.google.com/assets/colab-badge.svg\" alt=\"Open In Colab\"/></a>"
      ]
    },
    {
      "cell_type": "code",
      "execution_count": 11,
      "metadata": {
        "colab": {
          "base_uri": "https://localhost:8080/"
        },
        "outputId": "dc35f318-1916-4cae-a50f-2576a9d2b2f6",
        "id": "egO0AwV2Zcsr"
      },
      "outputs": [
        {
          "output_type": "stream",
          "name": "stdout",
          "text": [
            "cuma: ['brucehtta', 'erzincan_corba', 'tavuksis', 'telkadayıf']\n",
            "cumartesi: ['meze', 'borani', 'tavuksis', 'ekmekkadayıf']\n",
            "pazar: ['meze', 'borani', 'somon', 'kemalpaşa']\n"
          ]
        }
      ],
      "source": [
        "import random\n",
        "baslangic=[\"paçanga\", \"brucehtta\", \"meze\"]\n",
        "corba=[\"mercimek\", \"erzincan_corba\", \"borani\"]\n",
        "anayemek=[\"tavuksis\",\"biftek\",\"somon\"]\n",
        "tatli=[\"kemalpaşa\",\"baklava\",\"ekmekkadayıf\",\"telkadayıf\"]\n",
        "\n",
        "gunler=[\"cuma\",\"cumartesi\",\"pazar\"]\n",
        "\n",
        "def tekrarla():\n",
        "  for gün in gunler:\n",
        "    menu=[baslangic,corba,anayemek,tatli]\n",
        "    gununMenusu=[]\n",
        "    for course in menu:\n",
        "      gununMenusu.append(random.choice(course))\n",
        "\n",
        "    print(f\"{gün}: {gununMenusu}\")\n",
        "\n",
        "tekrarla()\n",
        "\n",
        "\n",
        "\n",
        "\n",
        "\n",
        "\n",
        "\n",
        "\n",
        "\n"
      ]
    },
    {
      "cell_type": "code",
      "source": [],
      "metadata": {
        "id": "VopeyxWs6s9Y"
      },
      "execution_count": null,
      "outputs": []
    },
    {
      "cell_type": "code",
      "execution_count": null,
      "metadata": {
        "colab": {
          "base_uri": "https://localhost:8080/"
        },
        "outputId": "7b13f284-cd15-4035-c30a-ceda2f8c9148",
        "id": "y-qsfOo9ZePK"
      },
      "outputs": [
        {
          "output_type": "stream",
          "name": "stdout",
          "text": [
            "Menu for cuma: ['brucehtta', 'erzincan_corba', 'somon', 'kemalpaşa']\n",
            "Menu for cumartesi: ['meze', 'erzincan_corba', 'somon', 'ekmekkadayıf']\n",
            "Menu for pazar: ['brucehtta', 'erzincan_corba', 'tavuksis', 'baklava']\n"
          ]
        }
      ],
      "source": [
        "import random\n",
        "baslangic=[\"paçanga\", \"brucehtta\", \"meze\"]\n",
        "corba=[\"mercimek\", \"erzincan_corba\", \"borani\"]\n",
        "anayemek=[\"tavuksis\",\"biftek\",\"somon\"]\n",
        "tatli=[\"kemalpaşa\",\"baklava\",\"ekmekkadayıf\",\"telkadayıf\"]\n",
        "\n",
        "gunler=[\"cuma\",\"cumartesi\",\"pazar\"]\n",
        "\n",
        "def tekrarla_menu ():\n",
        "  for gun in gunler:\n",
        "    menu=[baslangic,corba,anayemek,tatli]\n",
        "    gununMenusu=[]\n",
        "\n",
        "    for course in menu:\n",
        "      gununMenusu.append(random.choice(course))\n",
        "\n",
        "    print(f\"Menu for {gun}: {gununMenusu}\")\n",
        "\n",
        "\n",
        "tekrarla_menu()\n",
        "\n",
        "\n",
        "\n",
        "\n",
        "\n",
        "\n",
        "\n",
        "\n",
        "\n"
      ]
    },
    {
      "cell_type": "code",
      "execution_count": null,
      "metadata": {
        "colab": {
          "base_uri": "https://localhost:8080/",
          "height": 106
        },
        "id": "b04JBdOnrPzL",
        "outputId": "0fdd9253-135d-46bb-d4fd-ab39363d0559"
      },
      "outputs": [
        {
          "output_type": "error",
          "ename": "SyntaxError",
          "evalue": "invalid syntax (<ipython-input-41-235ea3d03add>, line 9)",
          "traceback": [
            "\u001b[0;36m  File \u001b[0;32m\"<ipython-input-41-235ea3d03add>\"\u001b[0;36m, line \u001b[0;32m9\u001b[0m\n\u001b[0;31m    def (tekrarla):\u001b[0m\n\u001b[0m        ^\u001b[0m\n\u001b[0;31mSyntaxError\u001b[0m\u001b[0;31m:\u001b[0m invalid syntax\n"
          ]
        }
      ],
      "source": [
        "import random\n",
        "baslangic=[\"paçanga\", \"brucehtta\", \"meze\"]\n",
        "corba=[\"mercimek\", \"erzincan_corba\", \"borani\"]\n",
        "anayemek=[\"tavuksis\",\"biftek\",\"somon\"]\n",
        "tatli=[\"kemalpaşa\",\"baklava\",\"ekmekkadayıf\",\"telkadayıf\"]\n",
        "\n",
        "gunler=[\"cuma\",\"cumartesi\",\"pazar\"]\n",
        "\n",
        "def (tekrarla):\n",
        "  for i in gunler:\n",
        "\n",
        "  menu=[baslangic,corba,anayemek,tatli]\n",
        "  gununMenusu=[]\n",
        "\n",
        "for course in menu:\n",
        "  gununMenusu.append(random.choice(course))\n",
        "print(gununMenusu)\n",
        "\n",
        "print(tekrarla)\n",
        "\n",
        "\n",
        "\n",
        "\n",
        "\n",
        "\n",
        "\n",
        "\n",
        "\n"
      ]
    }
  ]
}