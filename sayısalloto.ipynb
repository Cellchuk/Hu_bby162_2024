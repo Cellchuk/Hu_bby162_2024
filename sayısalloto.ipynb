{
  "nbformat": 4,
  "nbformat_minor": 0,
  "metadata": {
    "colab": {
      "provenance": [],
      "authorship_tag": "ABX9TyPf0nLhEsYIZln5OqjIiNdc",
      "include_colab_link": true
    },
    "kernelspec": {
      "name": "python3",
      "display_name": "Python 3"
    },
    "language_info": {
      "name": "python"
    }
  },
  "cells": [
    {
      "cell_type": "markdown",
      "metadata": {
        "id": "view-in-github",
        "colab_type": "text"
      },
      "source": [
        "<a href=\"https://colab.research.google.com/github/Cellchuk/Hu_bby162_2024/blob/main/say%C4%B1salloto.ipynb\" target=\"_parent\"><img src=\"https://colab.research.google.com/assets/colab-badge.svg\" alt=\"Open In Colab\"/></a>"
      ]
    },
    {
      "cell_type": "code",
      "execution_count": null,
      "metadata": {
        "colab": {
          "base_uri": "https://localhost:8080/"
        },
        "id": "1rtZu0L4B13i",
        "outputId": "3163d8c9-18a5-4f7e-986e-23bc17e21f2a"
      },
      "outputs": [
        {
          "output_type": "stream",
          "name": "stdout",
          "text": [
            "[18, 5, 30, 40, 13, 37]\n",
            "[36, 21, 49, 47, 38, 45]\n",
            "[25, 34, 24, 5, 39, 44]\n",
            "[38, 36, 22, 20, 23, 47]\n",
            "[1, 24, 12, 16, 15, 13]\n",
            "[28, 31, 24, 2, 18, 17]\n"
          ]
        }
      ],
      "source": [
        "import random\n",
        "\n",
        "rakamlar=[0,0,0,0,0,0]\n",
        "\n",
        "for rastgele in rakamlar:\n",
        "  i=0\n",
        "  while i<len(rakamlar):\n",
        "    secilen=random.randint(1,49)\n",
        "    if secilen not in rakamlar:\n",
        "      rakamlar[i]=secilen\n",
        "      i+=1\n",
        "  print(rakamlar)\n"
      ]
    }
  ]
}