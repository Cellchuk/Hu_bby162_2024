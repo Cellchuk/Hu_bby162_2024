{
  "nbformat": 4,
  "nbformat_minor": 0,
  "metadata": {
    "colab": {
      "provenance": [],
      "authorship_tag": "ABX9TyPtgZ2BlSbLl+1TEd0OZLZq",
      "include_colab_link": true
    },
    "kernelspec": {
      "name": "python3",
      "display_name": "Python 3"
    },
    "language_info": {
      "name": "python"
    }
  },
  "cells": [
    {
      "cell_type": "markdown",
      "metadata": {
        "id": "view-in-github",
        "colab_type": "text"
      },
      "source": [
        "<a href=\"https://colab.research.google.com/github/Cellchuk/Hu_bby162_2024/blob/main/Odev_Guncel_Sel%C3%A7uk.ipynb\" target=\"_parent\"><img src=\"https://colab.research.google.com/assets/colab-badge.svg\" alt=\"Open In Colab\"/></a>"
      ]
    },
    {
      "cell_type": "code",
      "execution_count": null,
      "metadata": {
        "colab": {
          "base_uri": "https://localhost:8080/"
        },
        "id": "x928axj1_e3u",
        "outputId": "7c0a2886-e2a9-4e46-bf27-dad39b3940ef"
      },
      "outputs": [
        {
          "output_type": "stream",
          "name": "stdout",
          "text": [
            "{'Erzincan': 'Selçuk', 'Manavgat': 'Atlas', 'Antalya': 'Maya', 'Rize': 'Deniz', 'Ankara': 'İrem'}\n",
            "ili giriniz: Trabzon\n",
            "İsmi giriniz: Gülay\n",
            "{'Erzincan': 'Selçuk', 'Manavgat': 'Atlas', 'Antalya': 'Maya', 'Rize': 'Deniz', 'Ankara': 'İrem', 'Trabzon': 'Gülay'}\n"
          ]
        }
      ],
      "source": [
        "memleketler= {\"Erzincan\": \"Selçuk\", \"Manavgat\": \"Atlas\", \"Antalya\": \"Maya\", \"Rize\": \"Deniz\", \"Ankara\": \"İrem\"}\n",
        "print (memleketler)\n",
        "\n",
        "iller = input (\"ili giriniz: \" )\n",
        "kişiler= input (\"İsmi giriniz: \" )\n",
        "memleketler [iller]= kişiler\n",
        "print (memleketler)\n"
      ]
    },
    {
      "cell_type": "code",
      "source": [
        "memleketler= {\"Erzincan\": \"Selçuk\", \"Manavgat\": \"Atlas\", \"Antalya\": \"Maya\", \"Rize\": \"Deniz\", \"Ankara\": \"İrem\"}\n",
        "\n",
        "silinecek = input (\"silmek istediğiniz ili giriniz: \")\n",
        "print(\"Silinecek kişi: \" + memleketler[silinecek])\n",
        "del memleketler[silinecek]\n",
        "print (memleketler)"
      ],
      "metadata": {
        "colab": {
          "base_uri": "https://localhost:8080/"
        },
        "id": "x4z1lKpiGReY",
        "outputId": "d4d35c2a-86c8-4de0-8641-f23e16833aa1"
      },
      "execution_count": null,
      "outputs": [
        {
          "output_type": "stream",
          "name": "stdout",
          "text": [
            "silmek istediğiniz ili giriniz: Ankara\n",
            "Silinecek kişi: İrem\n",
            "{'Erzincan': 'Selçuk', 'Manavgat': 'Atlas', 'Antalya': 'Maya', 'Rize': 'Deniz'}\n"
          ]
        }
      ]
    },
    {
      "cell_type": "code",
      "source": [
        "memleketler= {\"Erzincan\": \"Selçuk\", \"Manavgat\": \"Atlas\", \"Antalya\": \"Maya\", \"Rize\": \"Deniz\", \"Ankara\": \"İrem\"}\n",
        "iller=input( \"yeni il ekleyin\")\n",
        "kişiler=input( \"yeni kişi ekleyin\")\n",
        "memleketler[iller]=kişiler\n",
        "print (memleketler)"
      ],
      "metadata": {
        "colab": {
          "base_uri": "https://localhost:8080/"
        },
        "id": "vrtrBAimVBLG",
        "outputId": "439909f3-c3e2-4fc1-f751-ad73970b5d47"
      },
      "execution_count": null,
      "outputs": [
        {
          "output_type": "stream",
          "name": "stdout",
          "text": [
            "yeni il ekleyinGümüşhane\n",
            "yeni kişi ekleyinYağmur\n",
            "{'Erzincan': 'Selçuk', 'Manavgat': 'Atlas', 'Antalya': 'Maya', 'Rize': 'Deniz', 'Ankara': 'İrem', 'Gümüşhane': 'Yağmur'}\n"
          ]
        }
      ]
    },
    {
      "cell_type": "code",
      "source": [
        "memleketler= {\"Erzincan\": \"Selçuk\", \"Manavgat\": \"Atlas\", \"Antalya\": \"Maya\", \"Rize\": \"Deniz\", \"Ankara\": \"İrem\"}\n",
        "yeniIl=input( \"Güncellenecek yeni ili giriniz: \")\n",
        "yeniKişi=input( \"kişiyi değiştirin: \" )\n",
        "\n",
        "memleketler [yeniIl]=yeniKişi\n",
        "print (memleketler)"
      ],
      "metadata": {
        "colab": {
          "base_uri": "https://localhost:8080/"
        },
        "id": "qmoUkYtva1x4",
        "outputId": "6e075cd3-4cb9-4bce-f45f-5146ce174d03"
      },
      "execution_count": null,
      "outputs": [
        {
          "output_type": "stream",
          "name": "stdout",
          "text": [
            "Güncellenecek yeni ili giriniz: Ankara\n",
            "kişiyi değiştirin: Başak\n",
            "{'Erzincan': 'Selçuk', 'Manavgat': 'Atlas', 'Antalya': 'Maya', 'Rize': 'Deniz', 'Ankara': 'Başak'}\n"
          ]
        }
      ]
    }
  ]
}