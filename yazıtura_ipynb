{
  "nbformat": 4,
  "nbformat_minor": 0,
  "metadata": {
    "colab": {
      "provenance": [],
      "authorship_tag": "ABX9TyO2IXWPbi9C/FxUQR6wsSMS",
      "include_colab_link": true
    },
    "kernelspec": {
      "name": "python3",
      "display_name": "Python 3"
    },
    "language_info": {
      "name": "python"
    }
  },
  "cells": [
    {
      "cell_type": "markdown",
      "metadata": {
        "id": "view-in-github",
        "colab_type": "text"
      },
      "source": [
        "<a href=\"https://colab.research.google.com/github/Cellchuk/Hu_bby162_2024/blob/main/yaz%C4%B1tura_ipynb\" target=\"_parent\"><img src=\"https://colab.research.google.com/assets/colab-badge.svg\" alt=\"Open In Colab\"/></a>"
      ]
    },
    {
      "cell_type": "code",
      "source": [
        "\"\"\"github: yeni bir colab not yazı tura programı\"\"\"\n",
        "import random\n",
        "rastgele = random.randint(0,1)\n",
        "if rastgele == 0:\n",
        "\n",
        "  print: (\"yazı\")\n",
        "\n",
        "else:\n",
        "  Print: (\"tura\")"
      ],
      "metadata": {
        "id": "pfgeCGS9MKyN"
      },
      "execution_count": null,
      "outputs": []
    }
  ]
}