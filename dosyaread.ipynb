{
  "nbformat": 4,
  "nbformat_minor": 0,
  "metadata": {
    "colab": {
      "provenance": [],
      "mount_file_id": "1xRwYUB_5HW-iSw-HtKhPFFOEbRwWNMQb",
      "authorship_tag": "ABX9TyOErdGM37qDt3Eb8mcvqfke",
      "include_colab_link": true
    },
    "kernelspec": {
      "name": "python3",
      "display_name": "Python 3"
    },
    "language_info": {
      "name": "python"
    }
  },
  "cells": [
    {
      "cell_type": "markdown",
      "metadata": {
        "id": "view-in-github",
        "colab_type": "text"
      },
      "source": [
        "<a href=\"https://colab.research.google.com/github/Cellchuk/Hu_bby162_2024/blob/main/dosyaread.ipynb\" target=\"_parent\"><img src=\"https://colab.research.google.com/assets/colab-badge.svg\" alt=\"Open In Colab\"/></a>"
      ]
    },
    {
      "cell_type": "code",
      "execution_count": 2,
      "metadata": {
        "colab": {
          "base_uri": "https://localhost:8080/"
        },
        "id": "pe545WCHkY4i",
        "outputId": "8d3282c1-abfa-4806-feac-ae1b5ea7bdc9"
      },
      "outputs": [
        {
          "name": "stdout",
          "output_type": "stream",
          "text": [
            "adınızı giriniz:selcuk\n",
            "soyadınızu giriniz: gunduz\n"
          ]
        }
      ],
      "source": [
        "dosya=\"/content/drive/MyDrive/dosyaread\"\n",
        "sistem=open(dosya,\"w\")\n",
        "\n",
        "ad=input(\"adınızı giriniz:\")\n",
        "soyad=input(\"soyadınızu giriniz: \")\n",
        "\n",
        "sistemyaz=open(dosya,\"a\")\n",
        "sistemyaz.write(ad + \" \"+ soyad)\n",
        "sistemyaz.close()\n"
      ]
    },
    {
      "cell_type": "code",
      "source": [
        "dosyaoku=open(dosya, \"r\")\n",
        "for satir in dosyaoku.readlines():\n",
        "  print(satir)"
      ],
      "metadata": {
        "colab": {
          "base_uri": "https://localhost:8080/"
        },
        "id": "xdgS_NqqmOTW",
        "outputId": "d9f1a437-298f-4ccd-e282-a6e70747489c"
      },
      "execution_count": 4,
      "outputs": [
        {
          "output_type": "stream",
          "name": "stdout",
          "text": [
            "selcuk gunduz\n"
          ]
        }
      ]
    }
  ]
}