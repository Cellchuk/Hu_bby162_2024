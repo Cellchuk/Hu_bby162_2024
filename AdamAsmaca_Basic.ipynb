{
  "nbformat": 4,
  "nbformat_minor": 0,
  "metadata": {
    "colab": {
      "provenance": [],
      "authorship_tag": "ABX9TyMPPj5dgjBrOd+MDlGXQxwn",
      "include_colab_link": true
    },
    "kernelspec": {
      "name": "python3",
      "display_name": "Python 3"
    },
    "language_info": {
      "name": "python"
    }
  },
  "cells": [
    {
      "cell_type": "markdown",
      "metadata": {
        "id": "view-in-github",
        "colab_type": "text"
      },
      "source": [
        "<a href=\"https://colab.research.google.com/github/Cellchuk/Hu_bby162_2024/blob/main/AdamAsmaca_Basic.ipynb\" target=\"_parent\"><img src=\"https://colab.research.google.com/assets/colab-badge.svg\" alt=\"Open In Colab\"/></a>"
      ]
    },
    {
      "cell_type": "code",
      "source": [
        "from random import randint\n",
        "adamCan=3\n",
        "kelimeler=[\"selcuk\",\"deniz\",\"serdar\"]\n",
        "\n",
        "kelimeSayısı=len(kelimeler)\n",
        "secilen=randint(0, kelimeSayısı-1)\n",
        "secilenKelime=kelimeler[secilen]\n",
        "kelime=[]\n",
        "\n",
        "for i in secilenKelime:\n",
        "  kelime.append(\"-\")\n",
        "print(kelime)\n",
        "\n",
        "while adamCan>0:\n",
        "  girilenHarf=input(\"bir harf giriniz:\")\n",
        "  canKontrol=girilenHarf in secilenKelime\n",
        "  if canKontrol==False:\n",
        "    adamCan-=1\n",
        "  i=0\n",
        "  for kontrol in secilenKelime:\n",
        "    if secilenKelime[i]==girilenHarf:\n",
        "      kelime[i]=girilenHarf\n",
        "    i+=1\n",
        "  print(kelime)\n",
        "  print(\"kalan can:\" +str(adamCan))\n",
        "\n",
        "if adamCan==0:\n",
        "  print(\"üzügünüz, başka bir zaman!\")"
      ],
      "metadata": {
        "colab": {
          "base_uri": "https://localhost:8080/"
        },
        "id": "SS0E7MS3vAmB",
        "outputId": "fbd47c1c-1963-4308-bd42-a616682cc829"
      },
      "execution_count": null,
      "outputs": [
        {
          "output_type": "stream",
          "name": "stdout",
          "text": [
            "['-', '-', '-', '-', '-', '-']\n",
            "bir harf giriniz:g\n",
            "['-', '-', '-', '-', '-', '-']\n",
            "kalan can:2\n",
            "bir harf giriniz:h\n",
            "['-', '-', '-', '-', '-', '-']\n",
            "kalan can:1\n",
            "bir harf giriniz:j\n",
            "['-', '-', '-', '-', '-', '-']\n",
            "kalan can:0\n",
            "üzügünüz, başka bir zaman!\n"
          ]
        }
      ]
    }
  ]
}