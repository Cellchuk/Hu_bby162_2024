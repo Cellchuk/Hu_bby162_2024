{
  "nbformat": 4,
  "nbformat_minor": 0,
  "metadata": {
    "colab": {
      "provenance": [],
      "authorship_tag": "ABX9TyOnY6T4BZ5kzLmY1EGCXETh",
      "include_colab_link": true
    },
    "kernelspec": {
      "name": "python3",
      "display_name": "Python 3"
    },
    "language_info": {
      "name": "python"
    }
  },
  "cells": [
    {
      "cell_type": "markdown",
      "metadata": {
        "id": "view-in-github",
        "colab_type": "text"
      },
      "source": [
        "<a href=\"https://colab.research.google.com/github/Cellchuk/Hu_bby162_2024/blob/main/AdamAsmaca_Basic.ipynb\" target=\"_parent\"><img src=\"https://colab.research.google.com/assets/colab-badge.svg\" alt=\"Open In Colab\"/></a>"
      ]
    },
    {
      "cell_type": "code",
      "execution_count": null,
      "metadata": {
        "colab": {
          "base_uri": "https://localhost:8080/"
        },
        "id": "wrZ0iFLYASIW",
        "outputId": "2c94eae8-6cde-4212-ef8a-7d3246bdabcb"
      },
      "outputs": [
        {
          "output_type": "stream",
          "name": "stdout",
          "text": [
            "serdar\n",
            "['_', '_', '_', '_', '_', '_']\n",
            "Bir harf giriniz:h\n",
            "['_', '_', '_', '_', '_', '_']\n",
            "kalan can:-1\n"
          ]
        }
      ],
      "source": [
        "from random import randint\n",
        "adamcan=3\n",
        "kelimeler=[\"selcuk\",\"deniz\",\"serdar\"]\n",
        "kelimeSayısı=len(kelimeler)\n",
        "secilen=randint(0, kelimeSayısı-1)\n",
        "secilenKelime=kelimeler[secilen]\n",
        "print(secilenKelime)\n",
        "dizilenKelime=[]\n",
        "\n",
        "for sıra in kelimeler[secilen]:\n",
        "  dizilenKelime.append(\"_\")\n",
        "print(dizilenKelime)\n",
        "\n",
        "while adamcan>0:\n",
        "  girilenHarf=input(\"Bir harf giriniz:\")\n",
        "  canKontrol=girilenHarf in secilenKelime\n",
        "  if canKontrol==False:\n",
        "    adamcan=-1\n",
        "\n",
        "  i=0\n",
        "  for kontrol in secilenKelime:\n",
        "    if secilenKelime[i]==girilenHarf:\n",
        "      dizilenKelime[i]=girilenHarf\n",
        "    i+=1\n",
        "  print(dizilenKelime)\n",
        "  print(\"kalan can:\" + str(adamcan))"
      ]
    }
  ]
}