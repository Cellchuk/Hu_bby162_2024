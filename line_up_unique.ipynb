{
  "nbformat": 4,
  "nbformat_minor": 0,
  "metadata": {
    "colab": {
      "provenance": [],
      "authorship_tag": "ABX9TyONLMR9qmLRgvcvXb5foahi",
      "include_colab_link": true
    },
    "kernelspec": {
      "name": "python3",
      "display_name": "Python 3"
    },
    "language_info": {
      "name": "python"
    }
  },
  "cells": [
    {
      "cell_type": "markdown",
      "metadata": {
        "id": "view-in-github",
        "colab_type": "text"
      },
      "source": [
        "<a href=\"https://colab.research.google.com/github/Cellchuk/Hu_bby162_2024/blob/main/line_up_unique.ipynb\" target=\"_parent\"><img src=\"https://colab.research.google.com/assets/colab-badge.svg\" alt=\"Open In Colab\"/></a>"
      ]
    },
    {
      "cell_type": "code",
      "execution_count": 8,
      "metadata": {
        "colab": {
          "base_uri": "https://localhost:8080/"
        },
        "id": "kpX0f_0hoLX8",
        "outputId": "5d0ed517-c78f-4ae0-ae2e-e160217aea9c"
      },
      "outputs": [
        {
          "output_type": "stream",
          "name": "stdout",
          "text": [
            "cuma : ['madonna', 'beyonce', 'taylor swift']\n",
            "cumartesi : ['Britney', 'beyonce', 'taylor swift']\n",
            "pazar : ['kylie', 'beyonce', 'ciara']\n"
          ]
        }
      ],
      "source": [
        "import random\n",
        "alist=[\"Britney\", \"madonna\", \"kylie\"]\n",
        "blist=[\"beyonce\",\"dua lipa\",\"rihanna\"]\n",
        "clist=[\"taylor swift\", \"lana del rey\",\"ciara\"]\n",
        "\n",
        "\n",
        "günler=[\"cuma\", \"cumartesi\", \"pazar\"]\n",
        "\n",
        "def festivalle():\n",
        "  for gün in günler:\n",
        "    sahne=[alist, blist, clist]\n",
        "    line_up=[]\n",
        "\n",
        "\n",
        "\n",
        "    i=0\n",
        "    while i<len(sahne):\n",
        "      singer=random.choice(sahne[i])\n",
        "      if singer not in line_up:\n",
        "\n",
        "          line_up.append(singer)\n",
        "          i+=1\n",
        "    print(f\"{gün} : {line_up}\")\n",
        "\n",
        "festivalle()\n"
      ]
    }
  ]
}