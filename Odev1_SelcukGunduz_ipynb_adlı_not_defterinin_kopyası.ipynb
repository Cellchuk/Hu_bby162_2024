{
  "nbformat": 4,
  "nbformat_minor": 0,
  "metadata": {
    "colab": {
      "provenance": [],
      "authorship_tag": "ABX9TyMO11x51y0cd7G69cbVnIU+",
      "include_colab_link": true
    },
    "kernelspec": {
      "name": "python3",
      "display_name": "Python 3"
    },
    "language_info": {
      "name": "python"
    }
  },
  "cells": [
    {
      "cell_type": "markdown",
      "metadata": {
        "id": "view-in-github",
        "colab_type": "text"
      },
      "source": [
        "<a href=\"https://colab.research.google.com/github/Cellchuk/Hu_bby162_2024/blob/main/Odev1_SelcukGunduz_ipynb_adl%C4%B1_not_defterinin_kopyas%C4%B1.ipynb\" target=\"_parent\"><img src=\"https://colab.research.google.com/assets/colab-badge.svg\" alt=\"Open In Colab\"/></a>"
      ]
    },
    {
      "cell_type": "code",
      "execution_count": null,
      "metadata": {
        "colab": {
          "base_uri": "https://localhost:8080/"
        },
        "id": "Iv4R-fwMNVe6",
        "outputId": "5d5dc654-531b-4d2e-977e-6a3c1d7f9f9d"
      },
      "outputs": [
        {
          "output_type": "stream",
          "name": "stdout",
          "text": [
            "{'Erzincan': 'Selçuk', 'Antalya': 'Atlas', 'Ankara': 'İrem'}\n",
            "il ekleyinbursa\n",
            "isim ekleyindeniz\n",
            "{'Erzincan': 'Selçuk', 'Antalya': 'Atlas', 'Ankara': 'İrem', 'bursa': 'deniz'}\n"
          ]
        }
      ],
      "source": [
        "hemseriler= {\"Erzincan\": \"Selçuk\", \"Antalya\": \"Atlas\", \"Ankara\": \"İrem\"}\n",
        "print(hemseriler)\n",
        "iller= input(\"il ekleyin\")\n",
        "kisiler= input(\"isim ekleyin\")\n",
        "hemseriler[iller]= kisiler\n",
        "\n",
        "print(hemseriler)\n",
        "\n",
        "\n",
        "\n",
        "\n"
      ]
    },
    {
      "cell_type": "code",
      "source": [
        "hemseriler= {\"Erzincan\": \"Selçuk\", \"Antalya\": \"Atlas\", \"Ankara\": \"İrem\"}\n",
        "hemseriler[\"Bursa\"]= \"Deniz\"\n",
        "print(hemseriler)"
      ],
      "metadata": {
        "id": "91gVf21MhNrM",
        "outputId": "b1130667-62df-4871-b3db-ced31fc6e601",
        "colab": {
          "base_uri": "https://localhost:8080/"
        }
      },
      "execution_count": null,
      "outputs": [
        {
          "output_type": "stream",
          "name": "stdout",
          "text": [
            "{'Erzincan': 'Selçuk', 'Antalya': 'Atlas', 'Ankara': 'İrem', 'Bursa': 'Deniz'}\n"
          ]
        }
      ]
    },
    {
      "cell_type": "code",
      "source": [
        "hemseriler= {\"Erzincan\": \"Selçuk\", \"Antalya\": \"Atlas\", \"Ankara\": \"İrem\"}\n",
        "degisken = input(\"ili siliniz\")\n",
        "del hemseriler [degisken]\n",
        "print (hemseriler)"
      ],
      "metadata": {
        "id": "vCAAIr3lhi7i",
        "outputId": "86a95234-a470-4388-d4c4-a30c175bc959",
        "colab": {
          "base_uri": "https://localhost:8080/"
        }
      },
      "execution_count": null,
      "outputs": [
        {
          "output_type": "stream",
          "name": "stdout",
          "text": [
            "ili silinizErzincan\n",
            "{'Antalya': 'Atlas', 'Ankara': 'İrem'}\n"
          ]
        }
      ]
    },
    {
      "cell_type": "code",
      "source": [
        "hemseriler= {\"Erzincan\": \"Selçuk\", \"Antalya\": \"Atlas\", \"Ankara\": \"İrem\"}\n",
        "ekleme= input (\"listeyi güncelleyin\")\n",
        "deger= input (\"degeri güncelleyin\")\n",
        "hemseriler [ekleme]=deger\n",
        "print (hemseriler)\n"
      ],
      "metadata": {
        "id": "wtAi_SoyhkFC",
        "outputId": "9682fd3c-f4b0-4d54-cb73-70fc5d5ed39d",
        "colab": {
          "base_uri": "https://localhost:8080/"
        }
      },
      "execution_count": null,
      "outputs": [
        {
          "output_type": "stream",
          "name": "stdout",
          "text": [
            "listeyi güncelleyinAnkara\n",
            "degeri güncelleyinFatma\n",
            "{'Erzincan': 'Selçuk', 'Antalya': 'Atlas', 'Ankara': 'Fatma'}\n"
          ]
        }
      ]
    },
    {
      "cell_type": "code",
      "source": [],
      "metadata": {
        "id": "SIIQaQXEhkv6"
      },
      "execution_count": null,
      "outputs": []
    }
  ]
}