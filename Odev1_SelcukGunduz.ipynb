{
  "nbformat": 4,
  "nbformat_minor": 0,
  "metadata": {
    "colab": {
      "provenance": [],
      "authorship_tag": "ABX9TyMFAYUk+G40y33sr4BGhBBb",
      "include_colab_link": true
    },
    "kernelspec": {
      "name": "python3",
      "display_name": "Python 3"
    },
    "language_info": {
      "name": "python"
    }
  },
  "cells": [
    {
      "cell_type": "markdown",
      "metadata": {
        "id": "view-in-github",
        "colab_type": "text"
      },
      "source": [
        "<a href=\"https://colab.research.google.com/github/Cellchuk/Hu_bby162_2024/blob/main/Odev1_SelcukGunduz.ipynb\" target=\"_parent\"><img src=\"https://colab.research.google.com/assets/colab-badge.svg\" alt=\"Open In Colab\"/></a>"
      ]
    },
    {
      "cell_type": "code",
      "execution_count": 14,
      "metadata": {
        "colab": {
          "base_uri": "https://localhost:8080/"
        },
        "id": "Iv4R-fwMNVe6",
        "outputId": "e7bb23fe-62f0-4865-9d11-e9107bfa749f"
      },
      "outputs": [
        {
          "output_type": "stream",
          "name": "stdout",
          "text": [
            "['Erzincan', 'Antalya', 'Ankara']\n",
            "['Erzincan', 'Antalya', 'Ankara', 'Isparta']\n",
            "['Erzincan', 'Antalya', 'Isparta']\n",
            "['Erzincan', 'Trabzon', 'Isparta']\n",
            "True\n"
          ]
        }
      ],
      "source": [
        "hemseriler= [\"Erzincan\", \"Antalya\", \"Ankara\"]\n",
        "print(hemseriler)\n",
        "hemseriler += [\"Isparta\"]\n",
        "print (hemseriler)\n",
        "\n",
        "del hemseriler [2]\n",
        "print (hemseriler)\n",
        "\n",
        "hemseriler [1]= \"Trabzon\"\n",
        "print (hemseriler)\n",
        "\n",
        "print (\"Erzincan\"in (hemseriler))"
      ]
    }
  ]
}