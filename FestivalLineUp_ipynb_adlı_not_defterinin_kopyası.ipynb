{
  "nbformat": 4,
  "nbformat_minor": 0,
  "metadata": {
    "colab": {
      "provenance": [],
      "authorship_tag": "ABX9TyNRMDmeb15CBepqP/2xNLR9",
      "include_colab_link": true
    },
    "kernelspec": {
      "name": "python3",
      "display_name": "Python 3"
    },
    "language_info": {
      "name": "python"
    }
  },
  "cells": [
    {
      "cell_type": "markdown",
      "metadata": {
        "id": "view-in-github",
        "colab_type": "text"
      },
      "source": [
        "<a href=\"https://colab.research.google.com/github/Cellchuk/Hu_bby162_2024/blob/main/FestivalLineUp_ipynb_adl%C4%B1_not_defterinin_kopyas%C4%B1.ipynb\" target=\"_parent\"><img src=\"https://colab.research.google.com/assets/colab-badge.svg\" alt=\"Open In Colab\"/></a>"
      ]
    },
    {
      "cell_type": "code",
      "execution_count": 1,
      "metadata": {
        "colab": {
          "base_uri": "https://localhost:8080/"
        },
        "id": "1go9gkjqZLIe",
        "outputId": "609f83f0-f934-4c18-84d5-8e46ed3ff064"
      },
      "outputs": [
        {
          "output_type": "stream",
          "name": "stdout",
          "text": [
            "friday: ['Kylie Minogue', 'Dua Lipa', 'Lana Del Rey']\n",
            "saturday: ['Kylie Minogue', 'Dua Lipa', 'Bebe Rexha']\n",
            "sunday: ['Kylie Minogue', 'Ariana Grande', 'Taylor Swift']\n"
          ]
        }
      ],
      "source": [
        "\n",
        "import random\n",
        "\n",
        "alist=[\"Britney Spears\",\"Madonna\",\"Kylie Minogue\", \"Beyonce\"]\n",
        "blist=[\"Dua Lipa\", \"Billie Eilish\", \"Ariana Grande\", \"Rihanna\"]\n",
        "clist=[\"Taylor Swift\", \"Lana Del Rey\", \"Bebe Rexha\", \"Jessie Ware\"]\n",
        "days=[\"friday\",\"saturday\",\"sunday\"]\n",
        "\n",
        "def linetekrar():\n",
        "  for day in days:\n",
        "    sahne=[alist,blist,clist]\n",
        "    line_up = []\n",
        "\n",
        "    for singers in sahne:\n",
        "      line_up.append(random.choice(singers))\n",
        "    print(f\"{day:}: {line_up}\")\n",
        "\n",
        "linetekrar()\n",
        "\n",
        "\n",
        "\n",
        "\n",
        "\n",
        "\n"
      ]
    }
  ]
}